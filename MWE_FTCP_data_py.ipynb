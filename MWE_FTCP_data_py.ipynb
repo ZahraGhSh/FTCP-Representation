{
  "nbformat": 4,
  "nbformat_minor": 0,
  "metadata": {
    "colab": {
      "name": "MWE_FTCP_data.py.ipynb",
      "provenance": [],
      "authorship_tag": "ABX9TyPqsdnpr1TnhtW8o3WdiWOF",
      "include_colab_link": true
    },
    "kernelspec": {
      "name": "python3",
      "display_name": "Python 3"
    },
    "language_info": {
      "name": "python"
    }
  },
  "cells": [
    {
      "cell_type": "markdown",
      "metadata": {
        "id": "view-in-github",
        "colab_type": "text"
      },
      "source": [
        "<a href=\"https://colab.research.google.com/github/ZahraGhSh/FTCP-Representation/blob/main/MWE_FTCP_data_py.ipynb\" target=\"_parent\"><img src=\"https://colab.research.google.com/assets/colab-badge.svg\" alt=\"Open In Colab\"/></a>"
      ]
    },
    {
      "cell_type": "code",
      "execution_count": 1,
      "metadata": {
        "colab": {
          "base_uri": "https://localhost:8080/",
          "height": 1000
        },
        "id": "7U6K6RStr_WS",
        "outputId": "db287108-5c08-45f2-bfa3-1db2bf9121ea"
      },
      "outputs": [
        {
          "output_type": "stream",
          "name": "stdout",
          "text": [
            "Collecting pymatgen\n",
            "  Downloading pymatgen-2022.0.17.tar.gz (40.6 MB)\n",
            "\u001b[K     |████████████████████████████████| 40.6 MB 13.4 MB/s \n",
            "\u001b[?25h  Installing build dependencies ... \u001b[?25l\u001b[?25hdone\n",
            "  Getting requirements to build wheel ... \u001b[?25l\u001b[?25hdone\n",
            "  Installing backend dependencies ... \u001b[?25l\u001b[?25hdone\n",
            "    Preparing wheel metadata ... \u001b[?25l\u001b[?25hdone\n",
            "Requirement already satisfied: palettable>=3.1.1 in /usr/local/lib/python3.7/dist-packages (from pymatgen) (3.3.0)\n",
            "Requirement already satisfied: requests in /usr/local/lib/python3.7/dist-packages (from pymatgen) (2.23.0)\n",
            "Collecting scipy>=1.5.0\n",
            "  Downloading scipy-1.7.3-cp37-cp37m-manylinux_2_12_x86_64.manylinux2010_x86_64.whl (38.1 MB)\n",
            "\u001b[K     |████████████████████████████████| 38.1 MB 1.2 MB/s \n",
            "\u001b[?25hCollecting uncertainties>=3.1.4\n",
            "  Downloading uncertainties-3.1.6-py2.py3-none-any.whl (98 kB)\n",
            "\u001b[K     |████████████████████████████████| 98 kB 8.4 MB/s \n",
            "\u001b[?25hCollecting monty>=3.0.2\n",
            "  Downloading monty-2022.3.12-py3-none-any.whl (65 kB)\n",
            "\u001b[K     |████████████████████████████████| 65 kB 4.0 MB/s \n",
            "\u001b[?25hRequirement already satisfied: numpy>=1.20.1 in /usr/local/lib/python3.7/dist-packages (from pymatgen) (1.21.5)\n",
            "Requirement already satisfied: sympy in /usr/local/lib/python3.7/dist-packages (from pymatgen) (1.7.1)\n",
            "Requirement already satisfied: tabulate in /usr/local/lib/python3.7/dist-packages (from pymatgen) (0.8.9)\n",
            "Requirement already satisfied: pandas in /usr/local/lib/python3.7/dist-packages (from pymatgen) (1.3.5)\n",
            "Requirement already satisfied: typing-extensions>=3.7.4.3 in /usr/local/lib/python3.7/dist-packages (from pymatgen) (3.10.0.2)\n",
            "Requirement already satisfied: networkx>=2.2 in /usr/local/lib/python3.7/dist-packages (from pymatgen) (2.6.3)\n",
            "Collecting ruamel.yaml>=0.15.6\n",
            "  Downloading ruamel.yaml-0.17.21-py3-none-any.whl (109 kB)\n",
            "\u001b[K     |████████████████████████████████| 109 kB 52.7 MB/s \n",
            "\u001b[?25hRequirement already satisfied: matplotlib>=1.5 in /usr/local/lib/python3.7/dist-packages (from pymatgen) (3.2.2)\n",
            "Requirement already satisfied: plotly>=4.5.0 in /usr/local/lib/python3.7/dist-packages (from pymatgen) (5.5.0)\n",
            "Collecting spglib>=1.9.9.44\n",
            "  Downloading spglib-1.16.3-cp37-cp37m-manylinux_2_17_x86_64.manylinux2014_x86_64.whl (292 kB)\n",
            "\u001b[K     |████████████████████████████████| 292 kB 63.0 MB/s \n",
            "\u001b[?25hRequirement already satisfied: kiwisolver>=1.0.1 in /usr/local/lib/python3.7/dist-packages (from matplotlib>=1.5->pymatgen) (1.4.0)\n",
            "Requirement already satisfied: pyparsing!=2.0.4,!=2.1.2,!=2.1.6,>=2.0.1 in /usr/local/lib/python3.7/dist-packages (from matplotlib>=1.5->pymatgen) (3.0.7)\n",
            "Requirement already satisfied: cycler>=0.10 in /usr/local/lib/python3.7/dist-packages (from matplotlib>=1.5->pymatgen) (0.11.0)\n",
            "Requirement already satisfied: python-dateutil>=2.1 in /usr/local/lib/python3.7/dist-packages (from matplotlib>=1.5->pymatgen) (2.8.2)\n",
            "Requirement already satisfied: six in /usr/local/lib/python3.7/dist-packages (from plotly>=4.5.0->pymatgen) (1.15.0)\n",
            "Requirement already satisfied: tenacity>=6.2.0 in /usr/local/lib/python3.7/dist-packages (from plotly>=4.5.0->pymatgen) (8.0.1)\n",
            "Collecting ruamel.yaml.clib>=0.2.6\n",
            "  Downloading ruamel.yaml.clib-0.2.6-cp37-cp37m-manylinux1_x86_64.whl (546 kB)\n",
            "\u001b[K     |████████████████████████████████| 546 kB 49.3 MB/s \n",
            "\u001b[?25hRequirement already satisfied: future in /usr/local/lib/python3.7/dist-packages (from uncertainties>=3.1.4->pymatgen) (0.16.0)\n",
            "Requirement already satisfied: pytz>=2017.3 in /usr/local/lib/python3.7/dist-packages (from pandas->pymatgen) (2018.9)\n",
            "Requirement already satisfied: chardet<4,>=3.0.2 in /usr/local/lib/python3.7/dist-packages (from requests->pymatgen) (3.0.4)\n",
            "Requirement already satisfied: certifi>=2017.4.17 in /usr/local/lib/python3.7/dist-packages (from requests->pymatgen) (2021.10.8)\n",
            "Requirement already satisfied: idna<3,>=2.5 in /usr/local/lib/python3.7/dist-packages (from requests->pymatgen) (2.10)\n",
            "Requirement already satisfied: urllib3!=1.25.0,!=1.25.1,<1.26,>=1.21.1 in /usr/local/lib/python3.7/dist-packages (from requests->pymatgen) (1.24.3)\n",
            "Requirement already satisfied: mpmath>=0.19 in /usr/local/lib/python3.7/dist-packages (from sympy->pymatgen) (1.2.1)\n",
            "Building wheels for collected packages: pymatgen\n",
            "  Building wheel for pymatgen (PEP 517) ... \u001b[?25l\u001b[?25hdone\n",
            "  Created wheel for pymatgen: filename=pymatgen-2022.0.17-cp37-cp37m-linux_x86_64.whl size=41841000 sha256=366b903ff39658b8c99390b85dc58ac4ac7daf1f4342ed2609a4720d5ceb0de1\n",
            "  Stored in directory: /root/.cache/pip/wheels/cf/f6/22/58a9be23c5f1b452770e02ff42047175eaf0f9c2f15219fc76\n",
            "Successfully built pymatgen\n",
            "Installing collected packages: ruamel.yaml.clib, uncertainties, spglib, scipy, ruamel.yaml, monty, pymatgen\n",
            "  Attempting uninstall: scipy\n",
            "    Found existing installation: scipy 1.4.1\n",
            "    Uninstalling scipy-1.4.1:\n",
            "      Successfully uninstalled scipy-1.4.1\n",
            "\u001b[31mERROR: pip's dependency resolver does not currently take into account all the packages that are installed. This behaviour is the source of the following dependency conflicts.\n",
            "albumentations 0.1.12 requires imgaug<0.2.7,>=0.2.5, but you have imgaug 0.2.9 which is incompatible.\u001b[0m\n",
            "Successfully installed monty-2022.3.12 pymatgen-2022.0.17 ruamel.yaml-0.17.21 ruamel.yaml.clib-0.2.6 scipy-1.7.3 spglib-1.16.3 uncertainties-3.1.6\n"
          ]
        },
        {
          "output_type": "display_data",
          "data": {
            "application/vnd.colab-display-data+json": {
              "pip_warning": {
                "packages": [
                  "scipy"
                ]
              }
            }
          },
          "metadata": {}
        }
      ],
      "source": [
        "import joblib, json\n",
        "import numpy as np\n",
        "import pandas as pd\n",
        "from functools import partial\n",
        "from tqdm import tqdm\n",
        "# Prevent tqdm from printing multiline progress bars\n",
        "tqdm = partial(tqdm, position=0, leave=True)\n",
        "\n",
        "from sklearn.preprocessing import OneHotEncoder\n",
        "\n",
        "!pip install pymatgen\n",
        "from pymatgen.core import Structure"
      ]
    },
    {
      "cell_type": "code",
      "source": [
        "# Added per the usage instruction:\n",
        "\n",
        "!git clone https://github.com/PV-Lab/FTCP.git"
      ],
      "metadata": {
        "colab": {
          "base_uri": "https://localhost:8080/"
        },
        "id": "-fFLES_ksMJl",
        "outputId": "5ceb8bdc-4f1b-4048-b349-6c66f130d282"
      },
      "execution_count": 3,
      "outputs": [
        {
          "output_type": "stream",
          "name": "stdout",
          "text": [
            "Cloning into 'FTCP'...\n",
            "remote: Enumerating objects: 256, done.\u001b[K\n",
            "remote: Counting objects: 100% (256/256), done.\u001b[K\n",
            "remote: Compressing objects: 100% (199/199), done.\u001b[K\n",
            "remote: Total 256 (delta 91), reused 195 (delta 52), pack-reused 0\u001b[K\n",
            "Receiving objects: 100% (256/256), 774.52 KiB | 9.93 MiB/s, done.\n",
            "Resolving deltas: 100% (91/91), done.\n"
          ]
        }
      ]
    },
    {
      "cell_type": "code",
      "source": [
        "cd FTCP"
      ],
      "metadata": {
        "colab": {
          "base_uri": "https://localhost:8080/"
        },
        "id": "kGw2I-zstZYO",
        "outputId": "f74a7390-bab0-46d6-cf99-9dd6f48600cd"
      },
      "execution_count": 7,
      "outputs": [
        {
          "output_type": "stream",
          "name": "stdout",
          "text": [
            "/content/FTCP\n"
          ]
        }
      ]
    },
    {
      "cell_type": "code",
      "source": [
        "!pip install -r requirement.txt\n"
      ],
      "metadata": {
        "colab": {
          "base_uri": "https://localhost:8080/"
        },
        "id": "39xck9l4s0lr",
        "outputId": "033175e8-7d6e-42f1-9a69-3c4d3cdb84a9"
      },
      "execution_count": 8,
      "outputs": [
        {
          "output_type": "stream",
          "name": "stdout",
          "text": [
            "Collecting tensorflow==1.15.5\n",
            "  Downloading tensorflow-1.15.5-cp37-cp37m-manylinux2010_x86_64.whl (110.5 MB)\n",
            "\u001b[K     |████████████████████████████████| 110.5 MB 1.2 kB/s \n",
            "\u001b[?25hCollecting keras==2.3.1\n",
            "  Downloading Keras-2.3.1-py2.py3-none-any.whl (377 kB)\n",
            "\u001b[K     |████████████████████████████████| 377 kB 53.8 MB/s \n",
            "\u001b[?25hRequirement already satisfied: scikit-learn in /usr/local/lib/python3.7/dist-packages (from -r requirement.txt (line 3)) (1.0.2)\n",
            "Requirement already satisfied: numpy in /usr/local/lib/python3.7/dist-packages (from -r requirement.txt (line 4)) (1.21.5)\n",
            "Requirement already satisfied: matplotlib in /usr/local/lib/python3.7/dist-packages (from -r requirement.txt (line 5)) (3.2.2)\n",
            "Collecting matminer==0.6.2\n",
            "  Downloading matminer-0.6.2.tar.gz (6.8 MB)\n",
            "\u001b[K     |████████████████████████████████| 6.8 MB 34.1 MB/s \n",
            "\u001b[?25hCollecting pymatgen==2019.12.22\n",
            "  Downloading pymatgen-2019.12.22.tar.gz (2.6 MB)\n",
            "\u001b[K     |████████████████████████████████| 2.6 MB 40.9 MB/s \n",
            "\u001b[?25hCollecting pandas==1.3.2\n",
            "  Downloading pandas-1.3.2-cp37-cp37m-manylinux_2_17_x86_64.manylinux2014_x86_64.whl (11.3 MB)\n",
            "\u001b[K     |████████████████████████████████| 11.3 MB 49.1 MB/s \n",
            "\u001b[?25hCollecting joblib==1.0.1\n",
            "  Downloading joblib-1.0.1-py3-none-any.whl (303 kB)\n",
            "\u001b[K     |████████████████████████████████| 303 kB 69.5 MB/s \n",
            "\u001b[?25hRequirement already satisfied: seaborn in /usr/local/lib/python3.7/dist-packages (from -r requirement.txt (line 10)) (0.11.2)\n",
            "Collecting ase\n",
            "  Downloading ase-3.22.1-py3-none-any.whl (2.2 MB)\n",
            "\u001b[K     |████████████████████████████████| 2.2 MB 41.4 MB/s \n",
            "\u001b[?25hRequirement already satisfied: tqdm in /usr/local/lib/python3.7/dist-packages (from -r requirement.txt (line 12)) (4.63.0)\n",
            "\u001b[31mERROR: Could not find a version that satisfies the requirement json (from versions: none)\u001b[0m\n",
            "\u001b[31mERROR: No matching distribution found for json\u001b[0m\n"
          ]
        }
      ]
    },
    {
      "cell_type": "code",
      "source": [
        "# The block that raises an error.\n",
        "\n",
        "!pip install matminer\n",
        "from matminer.data_retrieval.retrieve_MP import MPDataRetrieval"
      ],
      "metadata": {
        "colab": {
          "base_uri": "https://localhost:8080/",
          "height": 1000
        },
        "id": "ids4tNwksU6V",
        "outputId": "2dbbc738-2240-495d-8155-e91f3a71d24e"
      },
      "execution_count": 9,
      "outputs": [
        {
          "output_type": "stream",
          "name": "stdout",
          "text": [
            "Collecting matminer\n",
            "  Downloading matminer-0.7.6-py3-none-any.whl (1.4 MB)\n",
            "\u001b[?25l\r\u001b[K     |▎                               | 10 kB 22.1 MB/s eta 0:00:01\r\u001b[K     |▌                               | 20 kB 26.5 MB/s eta 0:00:01\r\u001b[K     |▊                               | 30 kB 31.4 MB/s eta 0:00:01\r\u001b[K     |█                               | 40 kB 16.5 MB/s eta 0:00:01\r\u001b[K     |█▏                              | 51 kB 12.4 MB/s eta 0:00:01\r\u001b[K     |█▍                              | 61 kB 14.1 MB/s eta 0:00:01\r\u001b[K     |█▋                              | 71 kB 13.5 MB/s eta 0:00:01\r\u001b[K     |██                              | 81 kB 14.9 MB/s eta 0:00:01\r\u001b[K     |██▏                             | 92 kB 16.3 MB/s eta 0:00:01\r\u001b[K     |██▍                             | 102 kB 14.2 MB/s eta 0:00:01\r\u001b[K     |██▋                             | 112 kB 14.2 MB/s eta 0:00:01\r\u001b[K     |██▉                             | 122 kB 14.2 MB/s eta 0:00:01\r\u001b[K     |███                             | 133 kB 14.2 MB/s eta 0:00:01\r\u001b[K     |███▎                            | 143 kB 14.2 MB/s eta 0:00:01\r\u001b[K     |███▋                            | 153 kB 14.2 MB/s eta 0:00:01\r\u001b[K     |███▉                            | 163 kB 14.2 MB/s eta 0:00:01\r\u001b[K     |████                            | 174 kB 14.2 MB/s eta 0:00:01\r\u001b[K     |████▎                           | 184 kB 14.2 MB/s eta 0:00:01\r\u001b[K     |████▌                           | 194 kB 14.2 MB/s eta 0:00:01\r\u001b[K     |████▊                           | 204 kB 14.2 MB/s eta 0:00:01\r\u001b[K     |█████                           | 215 kB 14.2 MB/s eta 0:00:01\r\u001b[K     |█████▎                          | 225 kB 14.2 MB/s eta 0:00:01\r\u001b[K     |█████▌                          | 235 kB 14.2 MB/s eta 0:00:01\r\u001b[K     |█████▊                          | 245 kB 14.2 MB/s eta 0:00:01\r\u001b[K     |██████                          | 256 kB 14.2 MB/s eta 0:00:01\r\u001b[K     |██████▏                         | 266 kB 14.2 MB/s eta 0:00:01\r\u001b[K     |██████▍                         | 276 kB 14.2 MB/s eta 0:00:01\r\u001b[K     |██████▋                         | 286 kB 14.2 MB/s eta 0:00:01\r\u001b[K     |███████                         | 296 kB 14.2 MB/s eta 0:00:01\r\u001b[K     |███████▏                        | 307 kB 14.2 MB/s eta 0:00:01\r\u001b[K     |███████▍                        | 317 kB 14.2 MB/s eta 0:00:01\r\u001b[K     |███████▋                        | 327 kB 14.2 MB/s eta 0:00:01\r\u001b[K     |███████▉                        | 337 kB 14.2 MB/s eta 0:00:01\r\u001b[K     |████████                        | 348 kB 14.2 MB/s eta 0:00:01\r\u001b[K     |████████▎                       | 358 kB 14.2 MB/s eta 0:00:01\r\u001b[K     |████████▋                       | 368 kB 14.2 MB/s eta 0:00:01\r\u001b[K     |████████▉                       | 378 kB 14.2 MB/s eta 0:00:01\r\u001b[K     |█████████                       | 389 kB 14.2 MB/s eta 0:00:01\r\u001b[K     |█████████▎                      | 399 kB 14.2 MB/s eta 0:00:01\r\u001b[K     |█████████▌                      | 409 kB 14.2 MB/s eta 0:00:01\r\u001b[K     |█████████▊                      | 419 kB 14.2 MB/s eta 0:00:01\r\u001b[K     |██████████                      | 430 kB 14.2 MB/s eta 0:00:01\r\u001b[K     |██████████▎                     | 440 kB 14.2 MB/s eta 0:00:01\r\u001b[K     |██████████▌                     | 450 kB 14.2 MB/s eta 0:00:01\r\u001b[K     |██████████▊                     | 460 kB 14.2 MB/s eta 0:00:01\r\u001b[K     |███████████                     | 471 kB 14.2 MB/s eta 0:00:01\r\u001b[K     |███████████▏                    | 481 kB 14.2 MB/s eta 0:00:01\r\u001b[K     |███████████▍                    | 491 kB 14.2 MB/s eta 0:00:01\r\u001b[K     |███████████▋                    | 501 kB 14.2 MB/s eta 0:00:01\r\u001b[K     |████████████                    | 512 kB 14.2 MB/s eta 0:00:01\r\u001b[K     |████████████▏                   | 522 kB 14.2 MB/s eta 0:00:01\r\u001b[K     |████████████▍                   | 532 kB 14.2 MB/s eta 0:00:01\r\u001b[K     |████████████▋                   | 542 kB 14.2 MB/s eta 0:00:01\r\u001b[K     |████████████▉                   | 552 kB 14.2 MB/s eta 0:00:01\r\u001b[K     |█████████████                   | 563 kB 14.2 MB/s eta 0:00:01\r\u001b[K     |█████████████▎                  | 573 kB 14.2 MB/s eta 0:00:01\r\u001b[K     |█████████████▋                  | 583 kB 14.2 MB/s eta 0:00:01\r\u001b[K     |█████████████▉                  | 593 kB 14.2 MB/s eta 0:00:01\r\u001b[K     |██████████████                  | 604 kB 14.2 MB/s eta 0:00:01\r\u001b[K     |██████████████▎                 | 614 kB 14.2 MB/s eta 0:00:01\r\u001b[K     |██████████████▌                 | 624 kB 14.2 MB/s eta 0:00:01\r\u001b[K     |██████████████▊                 | 634 kB 14.2 MB/s eta 0:00:01\r\u001b[K     |███████████████                 | 645 kB 14.2 MB/s eta 0:00:01\r\u001b[K     |███████████████▎                | 655 kB 14.2 MB/s eta 0:00:01\r\u001b[K     |███████████████▌                | 665 kB 14.2 MB/s eta 0:00:01\r\u001b[K     |███████████████▊                | 675 kB 14.2 MB/s eta 0:00:01\r\u001b[K     |████████████████                | 686 kB 14.2 MB/s eta 0:00:01\r\u001b[K     |████████████████▏               | 696 kB 14.2 MB/s eta 0:00:01\r\u001b[K     |████████████████▍               | 706 kB 14.2 MB/s eta 0:00:01\r\u001b[K     |████████████████▋               | 716 kB 14.2 MB/s eta 0:00:01\r\u001b[K     |█████████████████               | 727 kB 14.2 MB/s eta 0:00:01\r\u001b[K     |█████████████████▏              | 737 kB 14.2 MB/s eta 0:00:01\r\u001b[K     |█████████████████▍              | 747 kB 14.2 MB/s eta 0:00:01\r\u001b[K     |█████████████████▋              | 757 kB 14.2 MB/s eta 0:00:01\r\u001b[K     |█████████████████▉              | 768 kB 14.2 MB/s eta 0:00:01\r\u001b[K     |██████████████████              | 778 kB 14.2 MB/s eta 0:00:01\r\u001b[K     |██████████████████▎             | 788 kB 14.2 MB/s eta 0:00:01\r\u001b[K     |██████████████████▋             | 798 kB 14.2 MB/s eta 0:00:01\r\u001b[K     |██████████████████▉             | 808 kB 14.2 MB/s eta 0:00:01\r\u001b[K     |███████████████████             | 819 kB 14.2 MB/s eta 0:00:01\r\u001b[K     |███████████████████▎            | 829 kB 14.2 MB/s eta 0:00:01\r\u001b[K     |███████████████████▌            | 839 kB 14.2 MB/s eta 0:00:01\r\u001b[K     |███████████████████▊            | 849 kB 14.2 MB/s eta 0:00:01\r\u001b[K     |████████████████████            | 860 kB 14.2 MB/s eta 0:00:01\r\u001b[K     |████████████████████▏           | 870 kB 14.2 MB/s eta 0:00:01\r\u001b[K     |████████████████████▌           | 880 kB 14.2 MB/s eta 0:00:01\r\u001b[K     |████████████████████▊           | 890 kB 14.2 MB/s eta 0:00:01\r\u001b[K     |█████████████████████           | 901 kB 14.2 MB/s eta 0:00:01\r\u001b[K     |█████████████████████▏          | 911 kB 14.2 MB/s eta 0:00:01\r\u001b[K     |█████████████████████▍          | 921 kB 14.2 MB/s eta 0:00:01\r\u001b[K     |█████████████████████▋          | 931 kB 14.2 MB/s eta 0:00:01\r\u001b[K     |█████████████████████▉          | 942 kB 14.2 MB/s eta 0:00:01\r\u001b[K     |██████████████████████▏         | 952 kB 14.2 MB/s eta 0:00:01\r\u001b[K     |██████████████████████▍         | 962 kB 14.2 MB/s eta 0:00:01\r\u001b[K     |██████████████████████▋         | 972 kB 14.2 MB/s eta 0:00:01\r\u001b[K     |██████████████████████▉         | 983 kB 14.2 MB/s eta 0:00:01\r\u001b[K     |███████████████████████         | 993 kB 14.2 MB/s eta 0:00:01\r\u001b[K     |███████████████████████▎        | 1.0 MB 14.2 MB/s eta 0:00:01\r\u001b[K     |███████████████████████▌        | 1.0 MB 14.2 MB/s eta 0:00:01\r\u001b[K     |███████████████████████▉        | 1.0 MB 14.2 MB/s eta 0:00:01\r\u001b[K     |████████████████████████        | 1.0 MB 14.2 MB/s eta 0:00:01\r\u001b[K     |████████████████████████▎       | 1.0 MB 14.2 MB/s eta 0:00:01\r\u001b[K     |████████████████████████▌       | 1.1 MB 14.2 MB/s eta 0:00:01\r\u001b[K     |████████████████████████▊       | 1.1 MB 14.2 MB/s eta 0:00:01\r\u001b[K     |█████████████████████████       | 1.1 MB 14.2 MB/s eta 0:00:01\r\u001b[K     |█████████████████████████▏      | 1.1 MB 14.2 MB/s eta 0:00:01\r\u001b[K     |█████████████████████████▌      | 1.1 MB 14.2 MB/s eta 0:00:01\r\u001b[K     |█████████████████████████▊      | 1.1 MB 14.2 MB/s eta 0:00:01\r\u001b[K     |██████████████████████████      | 1.1 MB 14.2 MB/s eta 0:00:01\r\u001b[K     |██████████████████████████▏     | 1.1 MB 14.2 MB/s eta 0:00:01\r\u001b[K     |██████████████████████████▍     | 1.1 MB 14.2 MB/s eta 0:00:01\r\u001b[K     |██████████████████████████▋     | 1.1 MB 14.2 MB/s eta 0:00:01\r\u001b[K     |██████████████████████████▉     | 1.2 MB 14.2 MB/s eta 0:00:01\r\u001b[K     |███████████████████████████▏    | 1.2 MB 14.2 MB/s eta 0:00:01\r\u001b[K     |███████████████████████████▍    | 1.2 MB 14.2 MB/s eta 0:00:01\r\u001b[K     |███████████████████████████▋    | 1.2 MB 14.2 MB/s eta 0:00:01\r\u001b[K     |███████████████████████████▉    | 1.2 MB 14.2 MB/s eta 0:00:01\r\u001b[K     |████████████████████████████    | 1.2 MB 14.2 MB/s eta 0:00:01\r\u001b[K     |████████████████████████████▎   | 1.2 MB 14.2 MB/s eta 0:00:01\r\u001b[K     |████████████████████████████▌   | 1.2 MB 14.2 MB/s eta 0:00:01\r\u001b[K     |████████████████████████████▉   | 1.2 MB 14.2 MB/s eta 0:00:01\r\u001b[K     |█████████████████████████████   | 1.2 MB 14.2 MB/s eta 0:00:01\r\u001b[K     |█████████████████████████████▎  | 1.3 MB 14.2 MB/s eta 0:00:01\r\u001b[K     |█████████████████████████████▌  | 1.3 MB 14.2 MB/s eta 0:00:01\r\u001b[K     |█████████████████████████████▊  | 1.3 MB 14.2 MB/s eta 0:00:01\r\u001b[K     |██████████████████████████████  | 1.3 MB 14.2 MB/s eta 0:00:01\r\u001b[K     |██████████████████████████████▏ | 1.3 MB 14.2 MB/s eta 0:00:01\r\u001b[K     |██████████████████████████████▌ | 1.3 MB 14.2 MB/s eta 0:00:01\r\u001b[K     |██████████████████████████████▊ | 1.3 MB 14.2 MB/s eta 0:00:01\r\u001b[K     |███████████████████████████████ | 1.3 MB 14.2 MB/s eta 0:00:01\r\u001b[K     |███████████████████████████████▏| 1.3 MB 14.2 MB/s eta 0:00:01\r\u001b[K     |███████████████████████████████▍| 1.4 MB 14.2 MB/s eta 0:00:01\r\u001b[K     |███████████████████████████████▋| 1.4 MB 14.2 MB/s eta 0:00:01\r\u001b[K     |███████████████████████████████▉| 1.4 MB 14.2 MB/s eta 0:00:01\r\u001b[K     |████████████████████████████████| 1.4 MB 14.2 MB/s \n",
            "\u001b[?25hRequirement already satisfied: scikit-learn>=1.0.1 in /usr/local/lib/python3.7/dist-packages (from matminer) (1.0.2)\n",
            "Collecting six>=1.16.0\n",
            "  Downloading six-1.16.0-py2.py3-none-any.whl (11 kB)\n",
            "Collecting requests>=2.27.1\n",
            "  Downloading requests-2.27.1-py2.py3-none-any.whl (63 kB)\n",
            "\u001b[K     |████████████████████████████████| 63 kB 2.1 MB/s \n",
            "\u001b[?25hRequirement already satisfied: pymongo>=4.0.1 in /usr/local/lib/python3.7/dist-packages (from matminer) (4.0.2)\n",
            "Collecting jsonschema>=4.4.0\n",
            "  Downloading jsonschema-4.4.0-py3-none-any.whl (72 kB)\n",
            "\u001b[K     |████████████████████████████████| 72 kB 1.3 MB/s \n",
            "\u001b[?25hCollecting matminer\n",
            "  Downloading matminer-0.7.5-py3-none-any.whl (1.4 MB)\n",
            "\u001b[K     |████████████████████████████████| 1.4 MB 24.0 MB/s \n",
            "\u001b[?25h  Downloading matminer-0.7.4-py3-none-any.whl (1.4 MB)\n",
            "\u001b[K     |████████████████████████████████| 1.4 MB 48.5 MB/s \n",
            "\u001b[?25hRequirement already satisfied: numpy>=1.21.1 in /usr/local/lib/python3.7/dist-packages (from matminer) (1.21.5)\n",
            "Requirement already satisfied: pandas>=1.3.1 in /usr/local/lib/python3.7/dist-packages (from matminer) (1.3.5)\n",
            "Collecting sympy>=1.8\n",
            "  Downloading sympy-1.10.1-py3-none-any.whl (6.4 MB)\n",
            "\u001b[K     |████████████████████████████████| 6.4 MB 50.4 MB/s \n",
            "\u001b[?25hCollecting future>=0.18.2\n",
            "  Downloading future-0.18.2.tar.gz (829 kB)\n",
            "\u001b[K     |████████████████████████████████| 829 kB 54.0 MB/s \n",
            "\u001b[?25hRequirement already satisfied: pymatgen>=2022.0.11 in /usr/local/lib/python3.7/dist-packages (from matminer) (2022.0.17)\n",
            "Collecting pint>=0.17\n",
            "  Downloading Pint-0.18-py2.py3-none-any.whl (209 kB)\n",
            "\u001b[K     |████████████████████████████████| 209 kB 69.0 MB/s \n",
            "\u001b[?25hRequirement already satisfied: jsonschema>=3.2.0 in /usr/local/lib/python3.7/dist-packages (from matminer) (4.3.3)\n",
            "Requirement already satisfied: monty>=2021.7.8 in /usr/local/lib/python3.7/dist-packages (from matminer) (2022.3.12)\n",
            "Requirement already satisfied: tqdm>=4.62.0 in /usr/local/lib/python3.7/dist-packages (from matminer) (4.63.0)\n",
            "Requirement already satisfied: attrs>=17.4.0 in /usr/local/lib/python3.7/dist-packages (from jsonschema>=3.2.0->matminer) (21.4.0)\n",
            "Requirement already satisfied: importlib-resources>=1.4.0 in /usr/local/lib/python3.7/dist-packages (from jsonschema>=3.2.0->matminer) (5.4.0)\n",
            "Requirement already satisfied: importlib-metadata in /usr/local/lib/python3.7/dist-packages (from jsonschema>=3.2.0->matminer) (4.11.3)\n",
            "Requirement already satisfied: pyrsistent!=0.17.0,!=0.17.1,!=0.17.2,>=0.14.0 in /usr/local/lib/python3.7/dist-packages (from jsonschema>=3.2.0->matminer) (0.18.1)\n",
            "Requirement already satisfied: typing-extensions in /usr/local/lib/python3.7/dist-packages (from jsonschema>=3.2.0->matminer) (3.10.0.2)\n",
            "Requirement already satisfied: zipp>=3.1.0 in /usr/local/lib/python3.7/dist-packages (from importlib-resources>=1.4.0->jsonschema>=3.2.0->matminer) (3.7.0)\n",
            "Requirement already satisfied: pytz>=2017.3 in /usr/local/lib/python3.7/dist-packages (from pandas>=1.3.1->matminer) (2018.9)\n",
            "Requirement already satisfied: python-dateutil>=2.7.3 in /usr/local/lib/python3.7/dist-packages (from pandas>=1.3.1->matminer) (2.8.2)\n",
            "Requirement already satisfied: packaging in /usr/local/lib/python3.7/dist-packages (from pint>=0.17->matminer) (21.3)\n",
            "Requirement already satisfied: spglib>=1.9.9.44 in /usr/local/lib/python3.7/dist-packages (from pymatgen>=2022.0.11->matminer) (1.16.3)\n",
            "Requirement already satisfied: scipy>=1.5.0 in /usr/local/lib/python3.7/dist-packages (from pymatgen>=2022.0.11->matminer) (1.7.3)\n",
            "Requirement already satisfied: matplotlib>=1.5 in /usr/local/lib/python3.7/dist-packages (from pymatgen>=2022.0.11->matminer) (3.2.2)\n",
            "Requirement already satisfied: uncertainties>=3.1.4 in /usr/local/lib/python3.7/dist-packages (from pymatgen>=2022.0.11->matminer) (3.1.6)\n",
            "Requirement already satisfied: networkx>=2.2 in /usr/local/lib/python3.7/dist-packages (from pymatgen>=2022.0.11->matminer) (2.6.3)\n",
            "Requirement already satisfied: palettable>=3.1.1 in /usr/local/lib/python3.7/dist-packages (from pymatgen>=2022.0.11->matminer) (3.3.0)\n",
            "Requirement already satisfied: ruamel.yaml>=0.15.6 in /usr/local/lib/python3.7/dist-packages (from pymatgen>=2022.0.11->matminer) (0.17.21)\n",
            "Requirement already satisfied: tabulate in /usr/local/lib/python3.7/dist-packages (from pymatgen>=2022.0.11->matminer) (0.8.9)\n",
            "Requirement already satisfied: plotly>=4.5.0 in /usr/local/lib/python3.7/dist-packages (from pymatgen>=2022.0.11->matminer) (5.5.0)\n",
            "Requirement already satisfied: kiwisolver>=1.0.1 in /usr/local/lib/python3.7/dist-packages (from matplotlib>=1.5->pymatgen>=2022.0.11->matminer) (1.4.0)\n",
            "Requirement already satisfied: pyparsing!=2.0.4,!=2.1.2,!=2.1.6,>=2.0.1 in /usr/local/lib/python3.7/dist-packages (from matplotlib>=1.5->pymatgen>=2022.0.11->matminer) (3.0.7)\n",
            "Requirement already satisfied: cycler>=0.10 in /usr/local/lib/python3.7/dist-packages (from matplotlib>=1.5->pymatgen>=2022.0.11->matminer) (0.11.0)\n",
            "Requirement already satisfied: tenacity>=6.2.0 in /usr/local/lib/python3.7/dist-packages (from plotly>=4.5.0->pymatgen>=2022.0.11->matminer) (8.0.1)\n",
            "Requirement already satisfied: certifi>=2017.4.17 in /usr/local/lib/python3.7/dist-packages (from requests>=2.27.1->matminer) (2021.10.8)\n",
            "Requirement already satisfied: charset-normalizer~=2.0.0 in /usr/local/lib/python3.7/dist-packages (from requests>=2.27.1->matminer) (2.0.12)\n",
            "Requirement already satisfied: urllib3<1.27,>=1.21.1 in /usr/local/lib/python3.7/dist-packages (from requests>=2.27.1->matminer) (1.24.3)\n",
            "Requirement already satisfied: idna<4,>=2.5 in /usr/local/lib/python3.7/dist-packages (from requests>=2.27.1->matminer) (2.10)\n",
            "Requirement already satisfied: ruamel.yaml.clib>=0.2.6 in /usr/local/lib/python3.7/dist-packages (from ruamel.yaml>=0.15.6->pymatgen>=2022.0.11->matminer) (0.2.6)\n",
            "Requirement already satisfied: joblib>=0.11 in /usr/local/lib/python3.7/dist-packages (from scikit-learn>=1.0.1->matminer) (1.1.0)\n",
            "Requirement already satisfied: threadpoolctl>=2.0.0 in /usr/local/lib/python3.7/dist-packages (from scikit-learn>=1.0.1->matminer) (3.1.0)\n",
            "Requirement already satisfied: mpmath>=0.19 in /usr/local/lib/python3.7/dist-packages (from sympy>=1.8->matminer) (1.2.1)\n",
            "Building wheels for collected packages: future\n",
            "  Building wheel for future (setup.py) ... \u001b[?25l\u001b[?25hdone\n",
            "  Created wheel for future: filename=future-0.18.2-py3-none-any.whl size=491070 sha256=73f776bc4bce8a67d9f5544b7257c7a5611e1c540d27086e02f99b8e867ffe39\n",
            "  Stored in directory: /root/.cache/pip/wheels/56/b0/fe/4410d17b32f1f0c3cf54cdfb2bc04d7b4b8f4ae377e2229ba0\n",
            "Successfully built future\n",
            "Installing collected packages: six, future, sympy, requests, pint, matminer\n",
            "  Attempting uninstall: six\n",
            "    Found existing installation: six 1.15.0\n",
            "    Uninstalling six-1.15.0:\n",
            "      Successfully uninstalled six-1.15.0\n",
            "  Attempting uninstall: future\n",
            "    Found existing installation: future 0.16.0\n",
            "    Uninstalling future-0.16.0:\n",
            "      Successfully uninstalled future-0.16.0\n",
            "  Attempting uninstall: sympy\n",
            "    Found existing installation: sympy 1.7.1\n",
            "    Uninstalling sympy-1.7.1:\n",
            "      Successfully uninstalled sympy-1.7.1\n",
            "  Attempting uninstall: requests\n",
            "    Found existing installation: requests 2.23.0\n",
            "    Uninstalling requests-2.23.0:\n",
            "      Successfully uninstalled requests-2.23.0\n",
            "\u001b[31mERROR: pip's dependency resolver does not currently take into account all the packages that are installed. This behaviour is the source of the following dependency conflicts.\n",
            "tensorflow 2.8.0 requires tf-estimator-nightly==2.8.0.dev2021122109, which is not installed.\n",
            "google-colab 1.0.0 requires requests~=2.23.0, but you have requests 2.27.1 which is incompatible.\n",
            "google-colab 1.0.0 requires six~=1.15.0, but you have six 1.16.0 which is incompatible.\n",
            "datascience 0.10.6 requires folium==0.2.1, but you have folium 0.8.3 which is incompatible.\n",
            "albumentations 0.1.12 requires imgaug<0.2.7,>=0.2.5, but you have imgaug 0.2.9 which is incompatible.\u001b[0m\n",
            "Successfully installed future-0.18.2 matminer-0.7.4 pint-0.18 requests-2.27.1 six-1.16.0 sympy-1.10.1\n"
          ]
        },
        {
          "output_type": "display_data",
          "data": {
            "application/vnd.colab-display-data+json": {
              "pip_warning": {
                "packages": [
                  "six"
                ]
              }
            }
          },
          "metadata": {}
        },
        {
          "output_type": "error",
          "ename": "ImportError",
          "evalue": "ignored",
          "traceback": [
            "\u001b[0;31m---------------------------------------------------------------------------\u001b[0m",
            "\u001b[0;31mImportError\u001b[0m                               Traceback (most recent call last)",
            "\u001b[0;32m<ipython-input-9-9a8048dba940>\u001b[0m in \u001b[0;36m<module>\u001b[0;34m()\u001b[0m\n\u001b[1;32m      1\u001b[0m \u001b[0mget_ipython\u001b[0m\u001b[0;34m(\u001b[0m\u001b[0;34m)\u001b[0m\u001b[0;34m.\u001b[0m\u001b[0msystem\u001b[0m\u001b[0;34m(\u001b[0m\u001b[0;34m'pip install matminer'\u001b[0m\u001b[0;34m)\u001b[0m\u001b[0;34m\u001b[0m\u001b[0;34m\u001b[0m\u001b[0m\n\u001b[0;32m----> 2\u001b[0;31m \u001b[0;32mfrom\u001b[0m \u001b[0mmatminer\u001b[0m\u001b[0;34m.\u001b[0m\u001b[0mdata_retrieval\u001b[0m\u001b[0;34m.\u001b[0m\u001b[0mretrieve_MP\u001b[0m \u001b[0;32mimport\u001b[0m \u001b[0mMPDataRetrieval\u001b[0m\u001b[0;34m\u001b[0m\u001b[0;34m\u001b[0m\u001b[0m\n\u001b[0m",
            "\u001b[0;32m/usr/local/lib/python3.7/dist-packages/matminer/data_retrieval/retrieve_MP.py\u001b[0m in \u001b[0;36m<module>\u001b[0;34m()\u001b[0m\n\u001b[1;32m      2\u001b[0m \u001b[0;32mfrom\u001b[0m \u001b[0mmatminer\u001b[0m\u001b[0;34m.\u001b[0m\u001b[0mdata_retrieval\u001b[0m\u001b[0;34m.\u001b[0m\u001b[0mretrieve_base\u001b[0m \u001b[0;32mimport\u001b[0m \u001b[0mBaseDataRetrieval\u001b[0m\u001b[0;34m\u001b[0m\u001b[0;34m\u001b[0m\u001b[0m\n\u001b[1;32m      3\u001b[0m \u001b[0;34m\u001b[0m\u001b[0m\n\u001b[0;32m----> 4\u001b[0;31m \u001b[0;32mfrom\u001b[0m \u001b[0mpymatgen\u001b[0m\u001b[0;34m.\u001b[0m\u001b[0mext\u001b[0m\u001b[0;34m.\u001b[0m\u001b[0mmatproj\u001b[0m \u001b[0;32mimport\u001b[0m \u001b[0mMPRester\u001b[0m\u001b[0;34m\u001b[0m\u001b[0;34m\u001b[0m\u001b[0m\n\u001b[0m\u001b[1;32m      5\u001b[0m \u001b[0;32mfrom\u001b[0m \u001b[0mpymatgen\u001b[0m\u001b[0;34m.\u001b[0m\u001b[0mext\u001b[0m\u001b[0;34m.\u001b[0m\u001b[0mmatproj\u001b[0m \u001b[0;32mimport\u001b[0m \u001b[0mMPRestError\u001b[0m\u001b[0;34m\u001b[0m\u001b[0;34m\u001b[0m\u001b[0m\n\u001b[1;32m      6\u001b[0m \u001b[0;34m\u001b[0m\u001b[0m\n",
            "\u001b[0;32m/usr/local/lib/python3.7/dist-packages/pymatgen/ext/matproj.py\u001b[0m in \u001b[0;36m<module>\u001b[0;34m()\u001b[0m\n\u001b[1;32m     31\u001b[0m \u001b[0;32mfrom\u001b[0m \u001b[0mpymatgen\u001b[0m\u001b[0;34m.\u001b[0m\u001b[0mcore\u001b[0m\u001b[0;34m.\u001b[0m\u001b[0mperiodic_table\u001b[0m \u001b[0;32mimport\u001b[0m \u001b[0mElement\u001b[0m\u001b[0;34m\u001b[0m\u001b[0;34m\u001b[0m\u001b[0m\n\u001b[1;32m     32\u001b[0m \u001b[0;32mfrom\u001b[0m \u001b[0mpymatgen\u001b[0m\u001b[0;34m.\u001b[0m\u001b[0mcore\u001b[0m\u001b[0;34m.\u001b[0m\u001b[0mstructure\u001b[0m \u001b[0;32mimport\u001b[0m \u001b[0mStructure\u001b[0m\u001b[0;34m\u001b[0m\u001b[0;34m\u001b[0m\u001b[0m\n\u001b[0;32m---> 33\u001b[0;31m \u001b[0;32mfrom\u001b[0m \u001b[0mpymatgen\u001b[0m\u001b[0;34m.\u001b[0m\u001b[0mcore\u001b[0m\u001b[0;34m.\u001b[0m\u001b[0msurface\u001b[0m \u001b[0;32mimport\u001b[0m \u001b[0mget_symmetrically_equivalent_miller_indices\u001b[0m\u001b[0;34m\u001b[0m\u001b[0;34m\u001b[0m\u001b[0m\n\u001b[0m\u001b[1;32m     34\u001b[0m \u001b[0;32mfrom\u001b[0m \u001b[0mpymatgen\u001b[0m\u001b[0;34m.\u001b[0m\u001b[0mentries\u001b[0m\u001b[0;34m.\u001b[0m\u001b[0mcomputed_entries\u001b[0m \u001b[0;32mimport\u001b[0m \u001b[0mComputedEntry\u001b[0m\u001b[0;34m,\u001b[0m \u001b[0mComputedStructureEntry\u001b[0m\u001b[0;34m\u001b[0m\u001b[0;34m\u001b[0m\u001b[0m\n\u001b[1;32m     35\u001b[0m \u001b[0;32mfrom\u001b[0m \u001b[0mpymatgen\u001b[0m\u001b[0;34m.\u001b[0m\u001b[0mentries\u001b[0m\u001b[0;34m.\u001b[0m\u001b[0mexp_entries\u001b[0m \u001b[0;32mimport\u001b[0m \u001b[0mExpEntry\u001b[0m\u001b[0;34m\u001b[0m\u001b[0;34m\u001b[0m\u001b[0m\n",
            "\u001b[0;32m/usr/local/lib/python3.7/dist-packages/pymatgen/core/surface.py\u001b[0m in \u001b[0;36m<module>\u001b[0;34m()\u001b[0m\n\u001b[1;32m     29\u001b[0m \u001b[0;32mimport\u001b[0m \u001b[0mnumpy\u001b[0m \u001b[0;32mas\u001b[0m \u001b[0mnp\u001b[0m\u001b[0;34m\u001b[0m\u001b[0;34m\u001b[0m\u001b[0m\n\u001b[1;32m     30\u001b[0m \u001b[0;32mfrom\u001b[0m \u001b[0mmonty\u001b[0m\u001b[0;34m.\u001b[0m\u001b[0mfractions\u001b[0m \u001b[0;32mimport\u001b[0m \u001b[0mlcm\u001b[0m\u001b[0;34m\u001b[0m\u001b[0;34m\u001b[0m\u001b[0m\n\u001b[0;32m---> 31\u001b[0;31m \u001b[0;32mfrom\u001b[0m \u001b[0mscipy\u001b[0m\u001b[0;34m.\u001b[0m\u001b[0mcluster\u001b[0m\u001b[0;34m.\u001b[0m\u001b[0mhierarchy\u001b[0m \u001b[0;32mimport\u001b[0m \u001b[0mfcluster\u001b[0m\u001b[0;34m,\u001b[0m \u001b[0mlinkage\u001b[0m\u001b[0;34m\u001b[0m\u001b[0;34m\u001b[0m\u001b[0m\n\u001b[0m\u001b[1;32m     32\u001b[0m \u001b[0;32mfrom\u001b[0m \u001b[0mscipy\u001b[0m\u001b[0;34m.\u001b[0m\u001b[0mspatial\u001b[0m\u001b[0;34m.\u001b[0m\u001b[0mdistance\u001b[0m \u001b[0;32mimport\u001b[0m \u001b[0msquareform\u001b[0m\u001b[0;34m\u001b[0m\u001b[0;34m\u001b[0m\u001b[0m\n\u001b[1;32m     33\u001b[0m \u001b[0;34m\u001b[0m\u001b[0m\n",
            "\u001b[0;32m/usr/local/lib/python3.7/dist-packages/scipy/cluster/__init__.py\u001b[0m in \u001b[0;36m<module>\u001b[0;34m()\u001b[0m\n\u001b[1;32m     23\u001b[0m \u001b[0m__all__\u001b[0m \u001b[0;34m=\u001b[0m \u001b[0;34m[\u001b[0m\u001b[0;34m'vq'\u001b[0m\u001b[0;34m,\u001b[0m \u001b[0;34m'hierarchy'\u001b[0m\u001b[0;34m]\u001b[0m\u001b[0;34m\u001b[0m\u001b[0;34m\u001b[0m\u001b[0m\n\u001b[1;32m     24\u001b[0m \u001b[0;34m\u001b[0m\u001b[0m\n\u001b[0;32m---> 25\u001b[0;31m \u001b[0;32mfrom\u001b[0m \u001b[0;34m.\u001b[0m \u001b[0;32mimport\u001b[0m \u001b[0mvq\u001b[0m\u001b[0;34m,\u001b[0m \u001b[0mhierarchy\u001b[0m\u001b[0;34m\u001b[0m\u001b[0;34m\u001b[0m\u001b[0m\n\u001b[0m\u001b[1;32m     26\u001b[0m \u001b[0;34m\u001b[0m\u001b[0m\n\u001b[1;32m     27\u001b[0m \u001b[0;32mfrom\u001b[0m \u001b[0mscipy\u001b[0m\u001b[0;34m.\u001b[0m\u001b[0m_lib\u001b[0m\u001b[0;34m.\u001b[0m\u001b[0m_testutils\u001b[0m \u001b[0;32mimport\u001b[0m \u001b[0mPytestTester\u001b[0m\u001b[0;34m\u001b[0m\u001b[0;34m\u001b[0m\u001b[0m\n",
            "\u001b[0;32m/usr/local/lib/python3.7/dist-packages/scipy/cluster/vq.py\u001b[0m in \u001b[0;36m<module>\u001b[0;34m()\u001b[0m\n\u001b[1;32m     68\u001b[0m \u001b[0;32mimport\u001b[0m \u001b[0mnumpy\u001b[0m \u001b[0;32mas\u001b[0m \u001b[0mnp\u001b[0m\u001b[0;34m\u001b[0m\u001b[0;34m\u001b[0m\u001b[0m\n\u001b[1;32m     69\u001b[0m \u001b[0;32mfrom\u001b[0m \u001b[0mcollections\u001b[0m \u001b[0;32mimport\u001b[0m \u001b[0mdeque\u001b[0m\u001b[0;34m\u001b[0m\u001b[0;34m\u001b[0m\u001b[0m\n\u001b[0;32m---> 70\u001b[0;31m \u001b[0;32mfrom\u001b[0m \u001b[0mscipy\u001b[0m\u001b[0;34m.\u001b[0m\u001b[0m_lib\u001b[0m\u001b[0;34m.\u001b[0m\u001b[0m_util\u001b[0m \u001b[0;32mimport\u001b[0m \u001b[0m_asarray_validated\u001b[0m\u001b[0;34m,\u001b[0m \u001b[0mcheck_random_state\u001b[0m\u001b[0;34m,\u001b[0m\u001b[0;31m\\\u001b[0m\u001b[0;34m\u001b[0m\u001b[0;34m\u001b[0m\u001b[0m\n\u001b[0m\u001b[1;32m     71\u001b[0m     \u001b[0mrng_integers\u001b[0m\u001b[0;34m\u001b[0m\u001b[0;34m\u001b[0m\u001b[0m\n\u001b[1;32m     72\u001b[0m \u001b[0;32mfrom\u001b[0m \u001b[0mscipy\u001b[0m\u001b[0;34m.\u001b[0m\u001b[0mspatial\u001b[0m\u001b[0;34m.\u001b[0m\u001b[0mdistance\u001b[0m \u001b[0;32mimport\u001b[0m \u001b[0mcdist\u001b[0m\u001b[0;34m\u001b[0m\u001b[0;34m\u001b[0m\u001b[0m\n",
            "\u001b[0;31mImportError\u001b[0m: cannot import name 'rng_integers' from 'scipy._lib._util' (/usr/local/lib/python3.7/dist-packages/scipy/_lib/_util.py)",
            "",
            "\u001b[0;31m---------------------------------------------------------------------------\u001b[0;32m\nNOTE: If your import is failing due to a missing package, you can\nmanually install dependencies using either !pip or !apt.\n\nTo view examples of installing some common dependencies, click the\n\"Open Examples\" button below.\n\u001b[0;31m---------------------------------------------------------------------------\u001b[0m\n"
          ],
          "errorDetails": {
            "actions": [
              {
                "action": "open_url",
                "actionText": "Open Examples",
                "url": "/notebooks/snippets/importing_libraries.ipynb"
              }
            ]
          }
        }
      ]
    }
  ]
}